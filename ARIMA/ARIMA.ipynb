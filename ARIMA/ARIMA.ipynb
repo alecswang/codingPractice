{
 "cells": [
  {
   "cell_type": "markdown",
   "id": "9091a56b-3b1b-46da-a0f7-ba5817279463",
   "metadata": {},
   "source": [
    "# ARIMA(Auto Regressive Integrated Moving Average)"
   ]
  },
  {
   "cell_type": "markdown",
   "id": "3c044218-6a1b-4d52-93b4-b0239549d5a0",
   "metadata": {},
   "source": [
    "## Intro"
   ]
  },
  {
   "cell_type": "markdown",
   "id": "86a25d39-2dca-4150-97a2-c8af3a1ce0d1",
   "metadata": {},
   "source": [
    "ARIMA is an algorithm that uses past data to predict future data in time series. It is a combination of 3 models(autoregression, integrated, and moving-average) and is one of the most commonly used time series forecasting models. Some practical examples include predicting stock prices and sales figures."
   ]
  },
  {
   "cell_type": "markdown",
   "id": "e6be518b-bd81-49fb-a84c-61a7214e7ccf",
   "metadata": {},
   "source": [
    "## What does each part of the model do?"
   ]
  },
  {
   "cell_type": "markdown",
   "id": "a32a8025-4f76-465c-b957-c57dd24d4e56",
   "metadata": {},
   "source": [
    "### AR(Autoregression)"
   ]
  },
  {
   "cell_type": "markdown",
   "id": "0987685e-bf7e-46bb-a1da-38c1f5613dca",
   "metadata": {},
   "source": [
    "We use this to forecast future values using a linear combination of the previously observed values."
   ]
  },
  {
   "cell_type": "markdown",
   "id": "98fc4be1-0d58-4e4b-9929-47b38cb010dd",
   "metadata": {},
   "source": [
    "#### $y_t = c + \\phi_1 y_{t-1} + \\phi_2 y_{t-2} + ... + \\phi_p y_{t-p} + \\epsilon_t$."
   ]
  },
  {
   "cell_type": "markdown",
   "id": "aeb3549b-a9f4-4504-9761-9b8e16d0503b",
   "metadata": {},
   "source": [
    "$y_t:$ is the prediction result at time t\\\n",
    "$c:$ is the constant term that represents the baseline value of $y_t$ when all lag terms are zero\\\n",
    "$\\phi_i:$ is the autoregressive/lag coefficients that measures the effect of $y_{t-i}$ on $y_t$\\\n",
    "$y_{t-i}:$ are past observed values of y used to perdict $y_t$\\\n",
    "$\\epsilon_t:$ is the error term at time t, represent the part of y that is unpredictable(random fluctuations)\\\n",
    "$p:$ is the number of lag components, also known as the order, which defines how far back the model looks"
   ]
  },
  {
   "cell_type": "markdown",
   "id": "bc44ddf2-4348-4f52-b083-ceb307f93a09",
   "metadata": {},
   "source": [
    "### I(Integrated)"
   ]
  },
  {
   "cell_type": "markdown",
   "id": "a8ea8c55-f47d-4a8c-b6aa-b880cce0ee3b",
   "metadata": {},
   "source": [
    "Integration refers the differencing, the process of computing differences between consecutive observations to remove trends. If the time series is non-stationary(changing mean and variance over time), differencing helps stabilize it, since applying AR and MA requires stationarity. d is the number of order differencing is applied to make the time series stationary. We can determine d using tests like Augmented Dickey-Fuller (ADF) Test, where it checks if the p-value > 0.05 and if so it applies differencing, or Inspect Autocorrelation Function (ACF). Differencing often makes the time series have a constant mean after 1-2 operation, but test to make sure it's not under or over done.\\\n",
    "\\\n",
    "Note that we have to apply another transformation like Box-Cox or logarithmic to make the variance constant. To test for it, plot the data and observe the shape, or use statistical tests like Breusch-Pagan test for heteroskedasticity. Always apply the log transformation before differencing to prevent logging negative values."
   ]
  },
  {
   "cell_type": "markdown",
   "id": "7a01c07d-b88f-49c1-a7d8-c98fe4ee338d",
   "metadata": {},
   "source": [
    "### MA(Moving-average)"
   ]
  },
  {
   "cell_type": "markdown",
   "id": "41f6fb4e-c79f-497d-a74d-d48f198103cd",
   "metadata": {},
   "source": [
    "We use this to forecast future values using past forecast errors."
   ]
  },
  {
   "cell_type": "markdown",
   "id": "cec68d37-1fc6-49a7-bf03-8abc3948bcb5",
   "metadata": {},
   "source": [
    "#### $y_t = \\mu + \\epsilon_t + \\theta_1 \\epsilon_{t-1} + \\theta_2 \\epsilon_{t-2} + ... + \\theta_q \\epsilon_{t-q}$."
   ]
  },
  {
   "cell_type": "markdown",
   "id": "58d3bb2d-9f39-41fa-a77a-fb23eec4644b",
   "metadata": {},
   "source": [
    "$y_t:$ is the prediction result at time t\\\n",
    "$\\mu:$ is the mean which is also the constant term that represents the baseline value of $y_t$ when all lag terms are zero. We use mean to emphasize this is the expected value, not just an arbitrary intercept\\\n",
    "$\\epsilon_{t-i}:$ is the error term at time t, represent the part of y that is unpredictable(random fluctuations)\\\n",
    "$\\theta_i:$ is the lag coefficients that measures the effect of $\\epsilon_{t-i}$ on $\\epsilon_t$\\\n",
    "$\\epsilon_i:$ is the past error terms\\\n",
    "$q:$ is the number of lag components, also known as the order, which defines how far back the model looks"
   ]
  },
  {
   "cell_type": "markdown",
   "id": "be122f9a-dc01-4cf6-a060-1913593d7e4b",
   "metadata": {},
   "source": [
    "## Final Form"
   ]
  },
  {
   "cell_type": "markdown",
   "id": "51007b6b-db09-4b45-827c-b9cf71f1d8ab",
   "metadata": {},
   "source": [
    "Combining all these components, we get:"
   ]
  },
  {
   "cell_type": "markdown",
   "id": "cdd8d4bd-16f9-42bd-94e8-0f425ed40052",
   "metadata": {},
   "source": [
    "#### $y_t' = c + \\phi_1 y_{t-1}' + ... + \\phi_p y_{t-p}' + \\epsilon_t + \\theta_1 \\epsilon_{t-1} + ... + \\theta_q \\epsilon_{t-q}$."
   ]
  },
  {
   "cell_type": "markdown",
   "id": "df59eff8-fc9d-4cdc-87d2-13c684043033",
   "metadata": {},
   "source": [
    "where y' refers to the stationary version of the time series.\\\n",
    "\\\n",
    "The model is usually written in short hand way as ARIMA(p,d,q), where p, d, and q refers to the order of autoregressors, differencing, and moving-averages components respectively."
   ]
  },
  {
   "cell_type": "markdown",
   "id": "f04fc2e1-7514-4744-a216-0beeda4f181f",
   "metadata": {},
   "source": [
    "### Order Selection"
   ]
  },
  {
   "cell_type": "markdown",
   "id": "c646a0a2-ed46-43f3-b559-6e755226a36b",
   "metadata": {},
   "source": [
    "Find p: Check the PACF(Partial Autocorrelation Function) plot—the lag where spikes cut off sharply is p (AR order).\\\n",
    "Find d: Difference the series until stationary (use the ADF test, stop when p-value ≤ 0.05).\\\n",
    "Find q: Check the ACF(Autocorrelation Function) plot—the lag where spikes drop to near zero is q (MA order).\\\n",
    "Validate: Ensure residuals are white noise (Ljung-Box test) and pick the model with the lowest AIC/BIC."
   ]
  },
  {
   "cell_type": "markdown",
   "id": "d9a5dad4-a01e-4002-837b-e5bba48e871e",
   "metadata": {},
   "source": [
    "### Estimate coefficients"
   ]
  },
  {
   "cell_type": "markdown",
   "id": "b8cb505a-9ce4-407b-a335-7147836e7e2d",
   "metadata": {},
   "source": [
    "Use MLE(Maximum Likelihood Estimation). MLE deduces the optimal values of the coefficients that produce the highest probability of obtaining that data. The result of MLE for normally distributed data is the same result as carrying ordinary least squares. Therefore, least squares is also frequently used for this exact reason."
   ]
  },
  {
   "cell_type": "markdown",
   "id": "4e272c4f-f5c0-404c-9b1c-27724fe07819",
   "metadata": {},
   "source": [
    "## Python Walkthrough"
   ]
  },
  {
   "cell_type": "markdown",
   "id": "16468766-dd11-4536-a3e7-73b29d494184",
   "metadata": {},
   "source": [
    "### Data"
   ]
  },
  {
   "cell_type": "markdown",
   "id": "78a9783a-ac93-4403-9c4e-8b88d3cd086f",
   "metadata": {},
   "source": [
    "We are using the AirPassengers.csv, downloaded from https://www.kaggle.com/datasets/rakannimer/air-passengers."
   ]
  },
  {
   "cell_type": "code",
   "execution_count": 1,
   "id": "68bfded6-7003-42d1-a25c-19611875aca6",
   "metadata": {},
   "outputs": [
    {
     "data": {
      "application/vnd.plotly.v1+json": {
       "config": {
        "plotlyServerURL": "https://plot.ly"
       },
       "data": [
        {
         "hovertemplate": "Date=%{x}<br>#Passengers=%{y}<extra></extra>",
         "legendgroup": "",
         "line": {
          "color": "#636efa",
          "dash": "solid"
         },
         "marker": {
          "symbol": "circle"
         },
         "mode": "lines",
         "name": "",
         "orientation": "v",
         "showlegend": false,
         "type": "scatter",
         "x": [
          "1949-01-01T00:00:00.000000000",
          "1949-02-01T00:00:00.000000000",
          "1949-03-01T00:00:00.000000000",
          "1949-04-01T00:00:00.000000000",
          "1949-05-01T00:00:00.000000000",
          "1949-06-01T00:00:00.000000000",
          "1949-07-01T00:00:00.000000000",
          "1949-08-01T00:00:00.000000000",
          "1949-09-01T00:00:00.000000000",
          "1949-10-01T00:00:00.000000000",
          "1949-11-01T00:00:00.000000000",
          "1949-12-01T00:00:00.000000000",
          "1950-01-01T00:00:00.000000000",
          "1950-02-01T00:00:00.000000000",
          "1950-03-01T00:00:00.000000000",
          "1950-04-01T00:00:00.000000000",
          "1950-05-01T00:00:00.000000000",
          "1950-06-01T00:00:00.000000000",
          "1950-07-01T00:00:00.000000000",
          "1950-08-01T00:00:00.000000000",
          "1950-09-01T00:00:00.000000000",
          "1950-10-01T00:00:00.000000000",
          "1950-11-01T00:00:00.000000000",
          "1950-12-01T00:00:00.000000000",
          "1951-01-01T00:00:00.000000000",
          "1951-02-01T00:00:00.000000000",
          "1951-03-01T00:00:00.000000000",
          "1951-04-01T00:00:00.000000000",
          "1951-05-01T00:00:00.000000000",
          "1951-06-01T00:00:00.000000000",
          "1951-07-01T00:00:00.000000000",
          "1951-08-01T00:00:00.000000000",
          "1951-09-01T00:00:00.000000000",
          "1951-10-01T00:00:00.000000000",
          "1951-11-01T00:00:00.000000000",
          "1951-12-01T00:00:00.000000000",
          "1952-01-01T00:00:00.000000000",
          "1952-02-01T00:00:00.000000000",
          "1952-03-01T00:00:00.000000000",
          "1952-04-01T00:00:00.000000000",
          "1952-05-01T00:00:00.000000000",
          "1952-06-01T00:00:00.000000000",
          "1952-07-01T00:00:00.000000000",
          "1952-08-01T00:00:00.000000000",
          "1952-09-01T00:00:00.000000000",
          "1952-10-01T00:00:00.000000000",
          "1952-11-01T00:00:00.000000000",
          "1952-12-01T00:00:00.000000000",
          "1953-01-01T00:00:00.000000000",
          "1953-02-01T00:00:00.000000000",
          "1953-03-01T00:00:00.000000000",
          "1953-04-01T00:00:00.000000000",
          "1953-05-01T00:00:00.000000000",
          "1953-06-01T00:00:00.000000000",
          "1953-07-01T00:00:00.000000000",
          "1953-08-01T00:00:00.000000000",
          "1953-09-01T00:00:00.000000000",
          "1953-10-01T00:00:00.000000000",
          "1953-11-01T00:00:00.000000000",
          "1953-12-01T00:00:00.000000000",
          "1954-01-01T00:00:00.000000000",
          "1954-02-01T00:00:00.000000000",
          "1954-03-01T00:00:00.000000000",
          "1954-04-01T00:00:00.000000000",
          "1954-05-01T00:00:00.000000000",
          "1954-06-01T00:00:00.000000000",
          "1954-07-01T00:00:00.000000000",
          "1954-08-01T00:00:00.000000000",
          "1954-09-01T00:00:00.000000000",
          "1954-10-01T00:00:00.000000000",
          "1954-11-01T00:00:00.000000000",
          "1954-12-01T00:00:00.000000000",
          "1955-01-01T00:00:00.000000000",
          "1955-02-01T00:00:00.000000000",
          "1955-03-01T00:00:00.000000000",
          "1955-04-01T00:00:00.000000000",
          "1955-05-01T00:00:00.000000000",
          "1955-06-01T00:00:00.000000000",
          "1955-07-01T00:00:00.000000000",
          "1955-08-01T00:00:00.000000000",
          "1955-09-01T00:00:00.000000000",
          "1955-10-01T00:00:00.000000000",
          "1955-11-01T00:00:00.000000000",
          "1955-12-01T00:00:00.000000000",
          "1956-01-01T00:00:00.000000000",
          "1956-02-01T00:00:00.000000000",
          "1956-03-01T00:00:00.000000000",
          "1956-04-01T00:00:00.000000000",
          "1956-05-01T00:00:00.000000000",
          "1956-06-01T00:00:00.000000000",
          "1956-07-01T00:00:00.000000000",
          "1956-08-01T00:00:00.000000000",
          "1956-09-01T00:00:00.000000000",
          "1956-10-01T00:00:00.000000000",
          "1956-11-01T00:00:00.000000000",
          "1956-12-01T00:00:00.000000000",
          "1957-01-01T00:00:00.000000000",
          "1957-02-01T00:00:00.000000000",
          "1957-03-01T00:00:00.000000000",
          "1957-04-01T00:00:00.000000000",
          "1957-05-01T00:00:00.000000000",
          "1957-06-01T00:00:00.000000000",
          "1957-07-01T00:00:00.000000000",
          "1957-08-01T00:00:00.000000000",
          "1957-09-01T00:00:00.000000000",
          "1957-10-01T00:00:00.000000000",
          "1957-11-01T00:00:00.000000000",
          "1957-12-01T00:00:00.000000000",
          "1958-01-01T00:00:00.000000000",
          "1958-02-01T00:00:00.000000000",
          "1958-03-01T00:00:00.000000000",
          "1958-04-01T00:00:00.000000000",
          "1958-05-01T00:00:00.000000000",
          "1958-06-01T00:00:00.000000000",
          "1958-07-01T00:00:00.000000000",
          "1958-08-01T00:00:00.000000000",
          "1958-09-01T00:00:00.000000000",
          "1958-10-01T00:00:00.000000000",
          "1958-11-01T00:00:00.000000000",
          "1958-12-01T00:00:00.000000000",
          "1959-01-01T00:00:00.000000000",
          "1959-02-01T00:00:00.000000000",
          "1959-03-01T00:00:00.000000000",
          "1959-04-01T00:00:00.000000000",
          "1959-05-01T00:00:00.000000000",
          "1959-06-01T00:00:00.000000000",
          "1959-07-01T00:00:00.000000000",
          "1959-08-01T00:00:00.000000000",
          "1959-09-01T00:00:00.000000000",
          "1959-10-01T00:00:00.000000000",
          "1959-11-01T00:00:00.000000000",
          "1959-12-01T00:00:00.000000000",
          "1960-01-01T00:00:00.000000000",
          "1960-02-01T00:00:00.000000000",
          "1960-03-01T00:00:00.000000000",
          "1960-04-01T00:00:00.000000000",
          "1960-05-01T00:00:00.000000000",
          "1960-06-01T00:00:00.000000000",
          "1960-07-01T00:00:00.000000000",
          "1960-08-01T00:00:00.000000000",
          "1960-09-01T00:00:00.000000000",
          "1960-10-01T00:00:00.000000000",
          "1960-11-01T00:00:00.000000000",
          "1960-12-01T00:00:00.000000000"
         ],
         "xaxis": "x",
         "y": {
          "bdata": "cAB2AIQAgQB5AIcAlACUAIgAdwBoAHYAcwB+AI0AhwB9AJUAqgCqAJ4AhQByAIwAkQCWALIAowCsALIAxwDHALgAogCSAKYAqwC0AMEAtQC3ANoA5gDyANEAvwCsAMIAxADEAOwA6wDlAPMACAEQAe0A0wC0AMkAzAC8AOsA4wDqAAgBLgElAQMB5QDLAOUA8gDpAAsBDQEOATsBbAFbATgBEgHtABYBHAEVAT0BOQE+AXYBnQGVAWMBMgEPATIBOwEtAWQBXAFjAaYB0QHTAZQBWwExAVABVAE+AWoBXAFrAbMB6wH5AZQBZwE2AVEBaAFWAZYBjAGkAdgBJAIvAs8BlwFqAZUBoQGHAaMBzQHYARcCbgJeAvwBzQGGAbAB",
          "dtype": "i2"
         },
         "yaxis": "y"
        }
       ],
       "layout": {
        "font": {
         "size": 18
        },
        "height": 400,
        "legend": {
         "tracegroupgap": 0
        },
        "margin": {
         "t": 60
        },
        "template": {
         "data": {
          "bar": [
           {
            "error_x": {
             "color": "rgb(36,36,36)"
            },
            "error_y": {
             "color": "rgb(36,36,36)"
            },
            "marker": {
             "line": {
              "color": "white",
              "width": 0.5
             },
             "pattern": {
              "fillmode": "overlay",
              "size": 10,
              "solidity": 0.2
             }
            },
            "type": "bar"
           }
          ],
          "barpolar": [
           {
            "marker": {
             "line": {
              "color": "white",
              "width": 0.5
             },
             "pattern": {
              "fillmode": "overlay",
              "size": 10,
              "solidity": 0.2
             }
            },
            "type": "barpolar"
           }
          ],
          "carpet": [
           {
            "aaxis": {
             "endlinecolor": "rgb(36,36,36)",
             "gridcolor": "white",
             "linecolor": "white",
             "minorgridcolor": "white",
             "startlinecolor": "rgb(36,36,36)"
            },
            "baxis": {
             "endlinecolor": "rgb(36,36,36)",
             "gridcolor": "white",
             "linecolor": "white",
             "minorgridcolor": "white",
             "startlinecolor": "rgb(36,36,36)"
            },
            "type": "carpet"
           }
          ],
          "choropleth": [
           {
            "colorbar": {
             "outlinewidth": 1,
             "tickcolor": "rgb(36,36,36)",
             "ticks": "outside"
            },
            "type": "choropleth"
           }
          ],
          "contour": [
           {
            "colorbar": {
             "outlinewidth": 1,
             "tickcolor": "rgb(36,36,36)",
             "ticks": "outside"
            },
            "colorscale": [
             [
              0,
              "#440154"
             ],
             [
              0.1111111111111111,
              "#482878"
             ],
             [
              0.2222222222222222,
              "#3e4989"
             ],
             [
              0.3333333333333333,
              "#31688e"
             ],
             [
              0.4444444444444444,
              "#26828e"
             ],
             [
              0.5555555555555556,
              "#1f9e89"
             ],
             [
              0.6666666666666666,
              "#35b779"
             ],
             [
              0.7777777777777778,
              "#6ece58"
             ],
             [
              0.8888888888888888,
              "#b5de2b"
             ],
             [
              1,
              "#fde725"
             ]
            ],
            "type": "contour"
           }
          ],
          "contourcarpet": [
           {
            "colorbar": {
             "outlinewidth": 1,
             "tickcolor": "rgb(36,36,36)",
             "ticks": "outside"
            },
            "type": "contourcarpet"
           }
          ],
          "heatmap": [
           {
            "colorbar": {
             "outlinewidth": 1,
             "tickcolor": "rgb(36,36,36)",
             "ticks": "outside"
            },
            "colorscale": [
             [
              0,
              "#440154"
             ],
             [
              0.1111111111111111,
              "#482878"
             ],
             [
              0.2222222222222222,
              "#3e4989"
             ],
             [
              0.3333333333333333,
              "#31688e"
             ],
             [
              0.4444444444444444,
              "#26828e"
             ],
             [
              0.5555555555555556,
              "#1f9e89"
             ],
             [
              0.6666666666666666,
              "#35b779"
             ],
             [
              0.7777777777777778,
              "#6ece58"
             ],
             [
              0.8888888888888888,
              "#b5de2b"
             ],
             [
              1,
              "#fde725"
             ]
            ],
            "type": "heatmap"
           }
          ],
          "histogram": [
           {
            "marker": {
             "line": {
              "color": "white",
              "width": 0.6
             }
            },
            "type": "histogram"
           }
          ],
          "histogram2d": [
           {
            "colorbar": {
             "outlinewidth": 1,
             "tickcolor": "rgb(36,36,36)",
             "ticks": "outside"
            },
            "colorscale": [
             [
              0,
              "#440154"
             ],
             [
              0.1111111111111111,
              "#482878"
             ],
             [
              0.2222222222222222,
              "#3e4989"
             ],
             [
              0.3333333333333333,
              "#31688e"
             ],
             [
              0.4444444444444444,
              "#26828e"
             ],
             [
              0.5555555555555556,
              "#1f9e89"
             ],
             [
              0.6666666666666666,
              "#35b779"
             ],
             [
              0.7777777777777778,
              "#6ece58"
             ],
             [
              0.8888888888888888,
              "#b5de2b"
             ],
             [
              1,
              "#fde725"
             ]
            ],
            "type": "histogram2d"
           }
          ],
          "histogram2dcontour": [
           {
            "colorbar": {
             "outlinewidth": 1,
             "tickcolor": "rgb(36,36,36)",
             "ticks": "outside"
            },
            "colorscale": [
             [
              0,
              "#440154"
             ],
             [
              0.1111111111111111,
              "#482878"
             ],
             [
              0.2222222222222222,
              "#3e4989"
             ],
             [
              0.3333333333333333,
              "#31688e"
             ],
             [
              0.4444444444444444,
              "#26828e"
             ],
             [
              0.5555555555555556,
              "#1f9e89"
             ],
             [
              0.6666666666666666,
              "#35b779"
             ],
             [
              0.7777777777777778,
              "#6ece58"
             ],
             [
              0.8888888888888888,
              "#b5de2b"
             ],
             [
              1,
              "#fde725"
             ]
            ],
            "type": "histogram2dcontour"
           }
          ],
          "mesh3d": [
           {
            "colorbar": {
             "outlinewidth": 1,
             "tickcolor": "rgb(36,36,36)",
             "ticks": "outside"
            },
            "type": "mesh3d"
           }
          ],
          "parcoords": [
           {
            "line": {
             "colorbar": {
              "outlinewidth": 1,
              "tickcolor": "rgb(36,36,36)",
              "ticks": "outside"
             }
            },
            "type": "parcoords"
           }
          ],
          "pie": [
           {
            "automargin": true,
            "type": "pie"
           }
          ],
          "scatter": [
           {
            "fillpattern": {
             "fillmode": "overlay",
             "size": 10,
             "solidity": 0.2
            },
            "type": "scatter"
           }
          ],
          "scatter3d": [
           {
            "line": {
             "colorbar": {
              "outlinewidth": 1,
              "tickcolor": "rgb(36,36,36)",
              "ticks": "outside"
             }
            },
            "marker": {
             "colorbar": {
              "outlinewidth": 1,
              "tickcolor": "rgb(36,36,36)",
              "ticks": "outside"
             }
            },
            "type": "scatter3d"
           }
          ],
          "scattercarpet": [
           {
            "marker": {
             "colorbar": {
              "outlinewidth": 1,
              "tickcolor": "rgb(36,36,36)",
              "ticks": "outside"
             }
            },
            "type": "scattercarpet"
           }
          ],
          "scattergeo": [
           {
            "marker": {
             "colorbar": {
              "outlinewidth": 1,
              "tickcolor": "rgb(36,36,36)",
              "ticks": "outside"
             }
            },
            "type": "scattergeo"
           }
          ],
          "scattergl": [
           {
            "marker": {
             "colorbar": {
              "outlinewidth": 1,
              "tickcolor": "rgb(36,36,36)",
              "ticks": "outside"
             }
            },
            "type": "scattergl"
           }
          ],
          "scattermap": [
           {
            "marker": {
             "colorbar": {
              "outlinewidth": 1,
              "tickcolor": "rgb(36,36,36)",
              "ticks": "outside"
             }
            },
            "type": "scattermap"
           }
          ],
          "scattermapbox": [
           {
            "marker": {
             "colorbar": {
              "outlinewidth": 1,
              "tickcolor": "rgb(36,36,36)",
              "ticks": "outside"
             }
            },
            "type": "scattermapbox"
           }
          ],
          "scatterpolar": [
           {
            "marker": {
             "colorbar": {
              "outlinewidth": 1,
              "tickcolor": "rgb(36,36,36)",
              "ticks": "outside"
             }
            },
            "type": "scatterpolar"
           }
          ],
          "scatterpolargl": [
           {
            "marker": {
             "colorbar": {
              "outlinewidth": 1,
              "tickcolor": "rgb(36,36,36)",
              "ticks": "outside"
             }
            },
            "type": "scatterpolargl"
           }
          ],
          "scatterternary": [
           {
            "marker": {
             "colorbar": {
              "outlinewidth": 1,
              "tickcolor": "rgb(36,36,36)",
              "ticks": "outside"
             }
            },
            "type": "scatterternary"
           }
          ],
          "surface": [
           {
            "colorbar": {
             "outlinewidth": 1,
             "tickcolor": "rgb(36,36,36)",
             "ticks": "outside"
            },
            "colorscale": [
             [
              0,
              "#440154"
             ],
             [
              0.1111111111111111,
              "#482878"
             ],
             [
              0.2222222222222222,
              "#3e4989"
             ],
             [
              0.3333333333333333,
              "#31688e"
             ],
             [
              0.4444444444444444,
              "#26828e"
             ],
             [
              0.5555555555555556,
              "#1f9e89"
             ],
             [
              0.6666666666666666,
              "#35b779"
             ],
             [
              0.7777777777777778,
              "#6ece58"
             ],
             [
              0.8888888888888888,
              "#b5de2b"
             ],
             [
              1,
              "#fde725"
             ]
            ],
            "type": "surface"
           }
          ],
          "table": [
           {
            "cells": {
             "fill": {
              "color": "rgb(237,237,237)"
             },
             "line": {
              "color": "white"
             }
            },
            "header": {
             "fill": {
              "color": "rgb(217,217,217)"
             },
             "line": {
              "color": "white"
             }
            },
            "type": "table"
           }
          ]
         },
         "layout": {
          "annotationdefaults": {
           "arrowhead": 0,
           "arrowwidth": 1
          },
          "autotypenumbers": "strict",
          "coloraxis": {
           "colorbar": {
            "outlinewidth": 1,
            "tickcolor": "rgb(36,36,36)",
            "ticks": "outside"
           }
          },
          "colorscale": {
           "diverging": [
            [
             0,
             "rgb(103,0,31)"
            ],
            [
             0.1,
             "rgb(178,24,43)"
            ],
            [
             0.2,
             "rgb(214,96,77)"
            ],
            [
             0.3,
             "rgb(244,165,130)"
            ],
            [
             0.4,
             "rgb(253,219,199)"
            ],
            [
             0.5,
             "rgb(247,247,247)"
            ],
            [
             0.6,
             "rgb(209,229,240)"
            ],
            [
             0.7,
             "rgb(146,197,222)"
            ],
            [
             0.8,
             "rgb(67,147,195)"
            ],
            [
             0.9,
             "rgb(33,102,172)"
            ],
            [
             1,
             "rgb(5,48,97)"
            ]
           ],
           "sequential": [
            [
             0,
             "#440154"
            ],
            [
             0.1111111111111111,
             "#482878"
            ],
            [
             0.2222222222222222,
             "#3e4989"
            ],
            [
             0.3333333333333333,
             "#31688e"
            ],
            [
             0.4444444444444444,
             "#26828e"
            ],
            [
             0.5555555555555556,
             "#1f9e89"
            ],
            [
             0.6666666666666666,
             "#35b779"
            ],
            [
             0.7777777777777778,
             "#6ece58"
            ],
            [
             0.8888888888888888,
             "#b5de2b"
            ],
            [
             1,
             "#fde725"
            ]
           ],
           "sequentialminus": [
            [
             0,
             "#440154"
            ],
            [
             0.1111111111111111,
             "#482878"
            ],
            [
             0.2222222222222222,
             "#3e4989"
            ],
            [
             0.3333333333333333,
             "#31688e"
            ],
            [
             0.4444444444444444,
             "#26828e"
            ],
            [
             0.5555555555555556,
             "#1f9e89"
            ],
            [
             0.6666666666666666,
             "#35b779"
            ],
            [
             0.7777777777777778,
             "#6ece58"
            ],
            [
             0.8888888888888888,
             "#b5de2b"
            ],
            [
             1,
             "#fde725"
            ]
           ]
          },
          "colorway": [
           "#1F77B4",
           "#FF7F0E",
           "#2CA02C",
           "#D62728",
           "#9467BD",
           "#8C564B",
           "#E377C2",
           "#7F7F7F",
           "#BCBD22",
           "#17BECF"
          ],
          "font": {
           "color": "rgb(36,36,36)"
          },
          "geo": {
           "bgcolor": "white",
           "lakecolor": "white",
           "landcolor": "white",
           "showlakes": true,
           "showland": true,
           "subunitcolor": "white"
          },
          "hoverlabel": {
           "align": "left"
          },
          "hovermode": "closest",
          "mapbox": {
           "style": "light"
          },
          "paper_bgcolor": "white",
          "plot_bgcolor": "white",
          "polar": {
           "angularaxis": {
            "gridcolor": "rgb(232,232,232)",
            "linecolor": "rgb(36,36,36)",
            "showgrid": false,
            "showline": true,
            "ticks": "outside"
           },
           "bgcolor": "white",
           "radialaxis": {
            "gridcolor": "rgb(232,232,232)",
            "linecolor": "rgb(36,36,36)",
            "showgrid": false,
            "showline": true,
            "ticks": "outside"
           }
          },
          "scene": {
           "xaxis": {
            "backgroundcolor": "white",
            "gridcolor": "rgb(232,232,232)",
            "gridwidth": 2,
            "linecolor": "rgb(36,36,36)",
            "showbackground": true,
            "showgrid": false,
            "showline": true,
            "ticks": "outside",
            "zeroline": false,
            "zerolinecolor": "rgb(36,36,36)"
           },
           "yaxis": {
            "backgroundcolor": "white",
            "gridcolor": "rgb(232,232,232)",
            "gridwidth": 2,
            "linecolor": "rgb(36,36,36)",
            "showbackground": true,
            "showgrid": false,
            "showline": true,
            "ticks": "outside",
            "zeroline": false,
            "zerolinecolor": "rgb(36,36,36)"
           },
           "zaxis": {
            "backgroundcolor": "white",
            "gridcolor": "rgb(232,232,232)",
            "gridwidth": 2,
            "linecolor": "rgb(36,36,36)",
            "showbackground": true,
            "showgrid": false,
            "showline": true,
            "ticks": "outside",
            "zeroline": false,
            "zerolinecolor": "rgb(36,36,36)"
           }
          },
          "shapedefaults": {
           "fillcolor": "black",
           "line": {
            "width": 0
           },
           "opacity": 0.3
          },
          "ternary": {
           "aaxis": {
            "gridcolor": "rgb(232,232,232)",
            "linecolor": "rgb(36,36,36)",
            "showgrid": false,
            "showline": true,
            "ticks": "outside"
           },
           "baxis": {
            "gridcolor": "rgb(232,232,232)",
            "linecolor": "rgb(36,36,36)",
            "showgrid": false,
            "showline": true,
            "ticks": "outside"
           },
           "bgcolor": "white",
           "caxis": {
            "gridcolor": "rgb(232,232,232)",
            "linecolor": "rgb(36,36,36)",
            "showgrid": false,
            "showline": true,
            "ticks": "outside"
           }
          },
          "title": {
           "x": 0.05
          },
          "xaxis": {
           "automargin": true,
           "gridcolor": "rgb(232,232,232)",
           "linecolor": "rgb(36,36,36)",
           "showgrid": false,
           "showline": true,
           "ticks": "outside",
           "title": {
            "standoff": 15
           },
           "zeroline": false,
           "zerolinecolor": "rgb(36,36,36)"
          },
          "yaxis": {
           "automargin": true,
           "gridcolor": "rgb(232,232,232)",
           "linecolor": "rgb(36,36,36)",
           "showgrid": false,
           "showline": true,
           "ticks": "outside",
           "title": {
            "standoff": 15
           },
           "zeroline": false,
           "zerolinecolor": "rgb(36,36,36)"
          }
         }
        },
        "title": {
         "text": "Airline Passengers",
         "x": 0.5
        },
        "width": 650,
        "xaxis": {
         "anchor": "y",
         "domain": [
          0,
          1
         ],
         "title": {
          "text": "Date"
         }
        },
        "yaxis": {
         "anchor": "x",
         "domain": [
          0,
          1
         ],
         "title": {
          "text": "#Passengers"
         }
        }
       }
      },
      "image/png": "[encoded data removed]"
     },
     "metadata": {},
     "output_type": "display_data"
    }
   ],
   "source": [
    "# Import packages\n",
    "import plotly.express as px\n",
    "import pandas as pd\n",
    "\n",
    "# Read in the data\n",
    "data = pd.read_csv('AirPassengers.csv')\n",
    "data['Month'] = pd.to_datetime(data['Month'])\n",
    "\n",
    "def plot_passenger_volumes(df: pd.DataFrame,\n",
    "                           y: str) -> None:\n",
    "    \"\"\"General function to plot the passenger data.\"\"\"\n",
    "\n",
    "    fig = px.line(df, x='Month', y=y, labels={'Month': 'Date'})\n",
    "    fig.update_layout(template=\"simple_white\", font=dict(size=18), title_text='Airline Passengers',\n",
    "                      width=650, title_x=0.5, height=400)\n",
    "\n",
    "    return fig.show()\n",
    "\n",
    "# Plot the airline passenger data\n",
    "plot_passenger_volumes(df=data, y='#Passengers')"
   ]
  },
  {
   "cell_type": "markdown",
   "id": "ff6af77b-141b-4241-b494-921b985f9aba",
   "metadata": {},
   "source": [
    "The data is not stationary as there is a strong positive trend and the yearly seasonality fluctuations are increasing through time, hence the variance is increasing. For this modelling task we will be using the statsmodel package, which handily carries out differencing for us and produces a constant mean. However, we still need to apply the Box-Cox transform to retrieve a stabilised variance:"
   ]
  },
  {
   "cell_type": "code",
   "execution_count": 2,
   "id": "8a5b54e8-f36a-4b38-8dba-3290a8bf2d2c",
   "metadata": {},
   "outputs": [
    {
     "data": {
      "application/vnd.plotly.v1+json": {
       "config": {
        "plotlyServerURL": "https://plot.ly"
       },
       "data": [
        {
         "hovertemplate": "Date=%{x}<br>Passengers_Boxcox=%{y}<extra></extra>",
         "legendgroup": "",
         "line": {
          "color": "#636efa",
          "dash": "solid"
         },
         "marker": {
          "symbol": "circle"
         },
         "mode": "lines",
         "name": "",
         "orientation": "v",
         "showlegend": false,
         "type": "scatter",
         "x": [
          "1949-01-01T00:00:00.000000000",
          "1949-02-01T00:00:00.000000000",
          "1949-03-01T00:00:00.000000000",
          "1949-04-01T00:00:00.000000000",
          "1949-05-01T00:00:00.000000000",
          "1949-06-01T00:00:00.000000000",
          "1949-07-01T00:00:00.000000000",
          "1949-08-01T00:00:00.000000000",
          "1949-09-01T00:00:00.000000000",
          "1949-10-01T00:00:00.000000000",
          "1949-11-01T00:00:00.000000000",
          "1949-12-01T00:00:00.000000000",
          "1950-01-01T00:00:00.000000000",
          "1950-02-01T00:00:00.000000000",
          "1950-03-01T00:00:00.000000000",
          "1950-04-01T00:00:00.000000000",
          "1950-05-01T00:00:00.000000000",
          "1950-06-01T00:00:00.000000000",
          "1950-07-01T00:00:00.000000000",
          "1950-08-01T00:00:00.000000000",
          "1950-09-01T00:00:00.000000000",
          "1950-10-01T00:00:00.000000000",
          "1950-11-01T00:00:00.000000000",
          "1950-12-01T00:00:00.000000000",
          "1951-01-01T00:00:00.000000000",
          "1951-02-01T00:00:00.000000000",
          "1951-03-01T00:00:00.000000000",
          "1951-04-01T00:00:00.000000000",
          "1951-05-01T00:00:00.000000000",
          "1951-06-01T00:00:00.000000000",
          "1951-07-01T00:00:00.000000000",
          "1951-08-01T00:00:00.000000000",
          "1951-09-01T00:00:00.000000000",
          "1951-10-01T00:00:00.000000000",
          "1951-11-01T00:00:00.000000000",
          "1951-12-01T00:00:00.000000000",
          "1952-01-01T00:00:00.000000000",
          "1952-02-01T00:00:00.000000000",
          "1952-03-01T00:00:00.000000000",
          "1952-04-01T00:00:00.000000000",
          "1952-05-01T00:00:00.000000000",
          "1952-06-01T00:00:00.000000000",
          "1952-07-01T00:00:00.000000000",
          "1952-08-01T00:00:00.000000000",
          "1952-09-01T00:00:00.000000000",
          "1952-10-01T00:00:00.000000000",
          "1952-11-01T00:00:00.000000000",
          "1952-12-01T00:00:00.000000000",
          "1953-01-01T00:00:00.000000000",
          "1953-02-01T00:00:00.000000000",
          "1953-03-01T00:00:00.000000000",
          "1953-04-01T00:00:00.000000000",
          "1953-05-01T00:00:00.000000000",
          "1953-06-01T00:00:00.000000000",
          "1953-07-01T00:00:00.000000000",
          "1953-08-01T00:00:00.000000000",
          "1953-09-01T00:00:00.000000000",
          "1953-10-01T00:00:00.000000000",
          "1953-11-01T00:00:00.000000000",
          "1953-12-01T00:00:00.000000000",
          "1954-01-01T00:00:00.000000000",
          "1954-02-01T00:00:00.000000000",
          "1954-03-01T00:00:00.000000000",
          "1954-04-01T00:00:00.000000000",
          "1954-05-01T00:00:00.000000000",
          "1954-06-01T00:00:00.000000000",
          "1954-07-01T00:00:00.000000000",
          "1954-08-01T00:00:00.000000000",
          "1954-09-01T00:00:00.000000000",
          "1954-10-01T00:00:00.000000000",
          "1954-11-01T00:00:00.000000000",
          "1954-12-01T00:00:00.000000000",
          "1955-01-01T00:00:00.000000000",
          "1955-02-01T00:00:00.000000000",
          "1955-03-01T00:00:00.000000000",
          "1955-04-01T00:00:00.000000000",
          "1955-05-01T00:00:00.000000000",
          "1955-06-01T00:00:00.000000000",
          "1955-07-01T00:00:00.000000000",
          "1955-08-01T00:00:00.000000000",
          "1955-09-01T00:00:00.000000000",
          "1955-10-01T00:00:00.000000000",
          "1955-11-01T00:00:00.000000000",
          "1955-12-01T00:00:00.000000000",
          "1956-01-01T00:00:00.000000000",
          "1956-02-01T00:00:00.000000000",
          "1956-03-01T00:00:00.000000000",
          "1956-04-01T00:00:00.000000000",
          "1956-05-01T00:00:00.000000000",
          "1956-06-01T00:00:00.000000000",
          "1956-07-01T00:00:00.000000000",
          "1956-08-01T00:00:00.000000000",
          "1956-09-01T00:00:00.000000000",
          "1956-10-01T00:00:00.000000000",
          "1956-11-01T00:00:00.000000000",
          "1956-12-01T00:00:00.000000000",
          "1957-01-01T00:00:00.000000000",
          "1957-02-01T00:00:00.000000000",
          "1957-03-01T00:00:00.000000000",
          "1957-04-01T00:00:00.000000000",
          "1957-05-01T00:00:00.000000000",
          "1957-06-01T00:00:00.000000000",
          "1957-07-01T00:00:00.000000000",
          "1957-08-01T00:00:00.000000000",
          "1957-09-01T00:00:00.000000000",
          "1957-10-01T00:00:00.000000000",
          "1957-11-01T00:00:00.000000000",
          "1957-12-01T00:00:00.000000000",
          "1958-01-01T00:00:00.000000000",
          "1958-02-01T00:00:00.000000000",
          "1958-03-01T00:00:00.000000000",
          "1958-04-01T00:00:00.000000000",
          "1958-05-01T00:00:00.000000000",
          "1958-06-01T00:00:00.000000000",
          "1958-07-01T00:00:00.000000000",
          "1958-08-01T00:00:00.000000000",
          "1958-09-01T00:00:00.000000000",
          "1958-10-01T00:00:00.000000000",
          "1958-11-01T00:00:00.000000000",
          "1958-12-01T00:00:00.000000000",
          "1959-01-01T00:00:00.000000000",
          "1959-02-01T00:00:00.000000000",
          "1959-03-01T00:00:00.000000000",
          "1959-04-01T00:00:00.000000000",
          "1959-05-01T00:00:00.000000000",
          "1959-06-01T00:00:00.000000000",
          "1959-07-01T00:00:00.000000000",
          "1959-08-01T00:00:00.000000000",
          "1959-09-01T00:00:00.000000000",
          "1959-10-01T00:00:00.000000000",
          "1959-11-01T00:00:00.000000000",
          "1959-12-01T00:00:00.000000000",
          "1960-01-01T00:00:00.000000000",
          "1960-02-01T00:00:00.000000000",
          "1960-03-01T00:00:00.000000000",
          "1960-04-01T00:00:00.000000000",
          "1960-05-01T00:00:00.000000000",
          "1960-06-01T00:00:00.000000000",
          "1960-07-01T00:00:00.000000000",
          "1960-08-01T00:00:00.000000000",
          "1960-09-01T00:00:00.000000000",
          "1960-10-01T00:00:00.000000000",
          "1960-11-01T00:00:00.000000000",
          "1960-12-01T00:00:00.000000000"
         ],
         "xaxis": "x",
         "y": {
          "bdata": "0BkDZFlPG0DJ+nOWNbsbQAGJULbGpRxA0oM5W1x1HEDT7R6oZe8bQNeBr1pD1RxAAHOaBDCZHUAAc5oEMJkdQALHl2/k5BxAQokIx7rMG0CEk+COmrcaQMn6c5Y1uxtAweFv7uCFG0DuhNXx+UMcQIVtIKyZMR1A14GvWkPVHEDLT6HLSjMcQAfvBa6kpx1AnsL/tJvFHkCewv+0m8UeQPb3n04nJh5A1Xfs2LS1HEAS9RGW1nMbQCdF8TlyIh1AuCgOwlBtHUAfatA9BLYdQMN0nYCpKh9A4EZjTs5pHkBRTbzYPt8eQMN0nYCpKh9AUwPvEU4RIEBTA+8RThEgQKUOgXHxcx9AodAdEmtcHkAtY2dUBnwdQNdtipyNkR5AcfOoc3XSHkBlf9LjUUMfQEDIw7ci3h9ATpBGtI9PH0AxvypV32cfQDlnaqg1eCBAeQbtE1S1IEAWdJfMye8gQFRKm8h1SCBAF7fBWOjGH0BRTbzYPt8eQMusaD2s6R9AVxknSkwAIEBXGSdKTAAgQI3lI/3f0iBAQ7D9zP7NIEDK4WAeV7AgQD9yBzOM9CBACOxRstRUIUAG7yh6zHchQLmI5Ky81yBAXzBiazhTIEBlf9LjUUMfQGOnOaCFHCBAaC5cpSstIEBP8I2MrKMfQEOw/cz+zSBAdcLq4U6mIEAYv1gTGckgQAjsUbLUVCFAZZa6qpPzIUD2pU0wls8hQAW0XMODPiFAyuFgHlewIEB7atTwpCcgQMrhYB5XsCBAFnSXzMnvIECxd//GLsQgQNXWMlsMYiFA0Q2xLcpqIUAMVkrHI28hQJI6tGL7JSJAYZc0lk7VIkCQrr5F5JoiQFDTsXCCGiJA0owgVWeAIUC5iOSsvNcgQMscaEF0kSFAWhoeW6SqIUDK1PYQNo0hQHGbMSOULSJAhc/LFVgeIkC2SqOYXDEiQEEyqG2X9iJAXVsdcI5xI0CBsxUrKlkjQHZDjpCttiJAPcnWokcDIkCtr7zeeXMhQD3J1qJHAyJAkjq0YvslIkB6fwmXn+8hQBIfMRkduiJAzcQyB2WeIkB2Q46QrbYiQA+1Zj6FjCNAce1GLvUGJEC2QIn8aQwkQAm4HUMWViNAkK6+ReSaIkDC4y7cXv8hQOxb0NDHcyJAHoKyliCCIkC2SqOYXDEiQEFzboeOziJAzcQyB2WeIkDTUWSS79EiQBnoS8SdsiNA/Pua+mFMJECqrfMxenAkQAm4HUMWViNAcQ/5IF/EIkDD7uQUzxIiQGoyqXxhdyJAvKVpUcbHIkCrNmUwP4kiQPNIL2s8XCNAY0DAezo9I0CzS+wzkoYjQKtF1tT3GSRA9sLZGj/aJEDD8xoWKvQkQF78Rj97ASRAs+xYBU1fI0BBc26Hjs4iQIGzFSsqWSNAEfzWA5p9I0DIFTpHeS0jQGD9KV2WgyNAYf8DJfz7I0CrRdbU9xkkQAwXcdwJuyRAk1I/Nb6AJUCEDlF8O14lQLlHiMwZeCRAYf8DJfz7I0BqYWdeTSojQH1RfHLpqSNA",
          "dtype": "f8"
         },
         "yaxis": "y"
        }
       ],
       "layout": {
        "font": {
         "size": 18
        },
        "height": 400,
        "legend": {
         "tracegroupgap": 0
        },
        "margin": {
         "t": 60
        },
        "template": {
         "data": {
          "bar": [
           {
            "error_x": {
             "color": "rgb(36,36,36)"
            },
            "error_y": {
             "color": "rgb(36,36,36)"
            },
            "marker": {
             "line": {
              "color": "white",
              "width": 0.5
             },
             "pattern": {
              "fillmode": "overlay",
              "size": 10,
              "solidity": 0.2
             }
            },
            "type": "bar"
           }
          ],
          "barpolar": [
           {
            "marker": {
             "line": {
              "color": "white",
              "width": 0.5
             },
             "pattern": {
              "fillmode": "overlay",
              "size": 10,
              "solidity": 0.2
             }
            },
            "type": "barpolar"
           }
          ],
          "carpet": [
           {
            "aaxis": {
             "endlinecolor": "rgb(36,36,36)",
             "gridcolor": "white",
             "linecolor": "white",
             "minorgridcolor": "white",
             "startlinecolor": "rgb(36,36,36)"
            },
            "baxis": {
             "endlinecolor": "rgb(36,36,36)",
             "gridcolor": "white",
             "linecolor": "white",
             "minorgridcolor": "white",
             "startlinecolor": "rgb(36,36,36)"
            },
            "type": "carpet"
           }
          ],
          "choropleth": [
           {
            "colorbar": {
             "outlinewidth": 1,
             "tickcolor": "rgb(36,36,36)",
             "ticks": "outside"
            },
            "type": "choropleth"
           }
          ],
          "contour": [
           {
            "colorbar": {
             "outlinewidth": 1,
             "tickcolor": "rgb(36,36,36)",
             "ticks": "outside"
            },
            "colorscale": [
             [
              0,
              "#440154"
             ],
             [
              0.1111111111111111,
              "#482878"
             ],
             [
              0.2222222222222222,
              "#3e4989"
             ],
             [
              0.3333333333333333,
              "#31688e"
             ],
             [
              0.4444444444444444,
              "#26828e"
             ],
             [
              0.5555555555555556,
              "#1f9e89"
             ],
             [
              0.6666666666666666,
              "#35b779"
             ],
             [
              0.7777777777777778,
              "#6ece58"
             ],
             [
              0.8888888888888888,
              "#b5de2b"
             ],
             [
              1,
              "#fde725"
             ]
            ],
            "type": "contour"
           }
          ],
          "contourcarpet": [
           {
            "colorbar": {
             "outlinewidth": 1,
             "tickcolor": "rgb(36,36,36)",
             "ticks": "outside"
            },
            "type": "contourcarpet"
           }
          ],
          "heatmap": [
           {
            "colorbar": {
             "outlinewidth": 1,
             "tickcolor": "rgb(36,36,36)",
             "ticks": "outside"
            },
            "colorscale": [
             [
              0,
              "#440154"
             ],
             [
              0.1111111111111111,
              "#482878"
             ],
             [
              0.2222222222222222,
              "#3e4989"
             ],
             [
              0.3333333333333333,
              "#31688e"
             ],
             [
              0.4444444444444444,
              "#26828e"
             ],
             [
              0.5555555555555556,
              "#1f9e89"
             ],
             [
              0.6666666666666666,
              "#35b779"
             ],
             [
              0.7777777777777778,
              "#6ece58"
             ],
             [
              0.8888888888888888,
              "#b5de2b"
             ],
             [
              1,
              "#fde725"
             ]
            ],
            "type": "heatmap"
           }
          ],
          "histogram": [
           {
            "marker": {
             "line": {
              "color": "white",
              "width": 0.6
             }
            },
            "type": "histogram"
           }
          ],
          "histogram2d": [
           {
            "colorbar": {
             "outlinewidth": 1,
             "tickcolor": "rgb(36,36,36)",
             "ticks": "outside"
            },
            "colorscale": [
             [
              0,
              "#440154"
             ],
             [
              0.1111111111111111,
              "#482878"
             ],
             [
              0.2222222222222222,
              "#3e4989"
             ],
             [
              0.3333333333333333,
              "#31688e"
             ],
             [
              0.4444444444444444,
              "#26828e"
             ],
             [
              0.5555555555555556,
              "#1f9e89"
             ],
             [
              0.6666666666666666,
              "#35b779"
             ],
             [
              0.7777777777777778,
              "#6ece58"
             ],
             [
              0.8888888888888888,
              "#b5de2b"
             ],
             [
              1,
              "#fde725"
             ]
            ],
            "type": "histogram2d"
           }
          ],
          "histogram2dcontour": [
           {
            "colorbar": {
             "outlinewidth": 1,
             "tickcolor": "rgb(36,36,36)",
             "ticks": "outside"
            },
            "colorscale": [
             [
              0,
              "#440154"
             ],
             [
              0.1111111111111111,
              "#482878"
             ],
             [
              0.2222222222222222,
              "#3e4989"
             ],
             [
              0.3333333333333333,
              "#31688e"
             ],
             [
              0.4444444444444444,
              "#26828e"
             ],
             [
              0.5555555555555556,
              "#1f9e89"
             ],
             [
              0.6666666666666666,
              "#35b779"
             ],
             [
              0.7777777777777778,
              "#6ece58"
             ],
             [
              0.8888888888888888,
              "#b5de2b"
             ],
             [
              1,
              "#fde725"
             ]
            ],
            "type": "histogram2dcontour"
           }
          ],
          "mesh3d": [
           {
            "colorbar": {
             "outlinewidth": 1,
             "tickcolor": "rgb(36,36,36)",
             "ticks": "outside"
            },
            "type": "mesh3d"
           }
          ],
          "parcoords": [
           {
            "line": {
             "colorbar": {
              "outlinewidth": 1,
              "tickcolor": "rgb(36,36,36)",
              "ticks": "outside"
             }
            },
            "type": "parcoords"
           }
          ],
          "pie": [
           {
            "automargin": true,
            "type": "pie"
           }
          ],
          "scatter": [
           {
            "fillpattern": {
             "fillmode": "overlay",
             "size": 10,
             "solidity": 0.2
            },
            "type": "scatter"
           }
          ],
          "scatter3d": [
           {
            "line": {
             "colorbar": {
              "outlinewidth": 1,
              "tickcolor": "rgb(36,36,36)",
              "ticks": "outside"
             }
            },
            "marker": {
             "colorbar": {
              "outlinewidth": 1,
              "tickcolor": "rgb(36,36,36)",
              "ticks": "outside"
             }
            },
            "type": "scatter3d"
           }
          ],
          "scattercarpet": [
           {
            "marker": {
             "colorbar": {
              "outlinewidth": 1,
              "tickcolor": "rgb(36,36,36)",
              "ticks": "outside"
             }
            },
            "type": "scattercarpet"
           }
          ],
          "scattergeo": [
           {
            "marker": {
             "colorbar": {
              "outlinewidth": 1,
              "tickcolor": "rgb(36,36,36)",
              "ticks": "outside"
             }
            },
            "type": "scattergeo"
           }
          ],
          "scattergl": [
           {
            "marker": {
             "colorbar": {
              "outlinewidth": 1,
              "tickcolor": "rgb(36,36,36)",
              "ticks": "outside"
             }
            },
            "type": "scattergl"
           }
          ],
          "scattermap": [
           {
            "marker": {
             "colorbar": {
              "outlinewidth": 1,
              "tickcolor": "rgb(36,36,36)",
              "ticks": "outside"
             }
            },
            "type": "scattermap"
           }
          ],
          "scattermapbox": [
           {
            "marker": {
             "colorbar": {
              "outlinewidth": 1,
              "tickcolor": "rgb(36,36,36)",
              "ticks": "outside"
             }
            },
            "type": "scattermapbox"
           }
          ],
          "scatterpolar": [
           {
            "marker": {
             "colorbar": {
              "outlinewidth": 1,
              "tickcolor": "rgb(36,36,36)",
              "ticks": "outside"
             }
            },
            "type": "scatterpolar"
           }
          ],
          "scatterpolargl": [
           {
            "marker": {
             "colorbar": {
              "outlinewidth": 1,
              "tickcolor": "rgb(36,36,36)",
              "ticks": "outside"
             }
            },
            "type": "scatterpolargl"
           }
          ],
          "scatterternary": [
           {
            "marker": {
             "colorbar": {
              "outlinewidth": 1,
              "tickcolor": "rgb(36,36,36)",
              "ticks": "outside"
             }
            },
            "type": "scatterternary"
           }
          ],
          "surface": [
           {
            "colorbar": {
             "outlinewidth": 1,
             "tickcolor": "rgb(36,36,36)",
             "ticks": "outside"
            },
            "colorscale": [
             [
              0,
              "#440154"
             ],
             [
              0.1111111111111111,
              "#482878"
             ],
             [
              0.2222222222222222,
              "#3e4989"
             ],
             [
              0.3333333333333333,
              "#31688e"
             ],
             [
              0.4444444444444444,
              "#26828e"
             ],
             [
              0.5555555555555556,
              "#1f9e89"
             ],
             [
              0.6666666666666666,
              "#35b779"
             ],
             [
              0.7777777777777778,
              "#6ece58"
             ],
             [
              0.8888888888888888,
              "#b5de2b"
             ],
             [
              1,
              "#fde725"
             ]
            ],
            "type": "surface"
           }
          ],
          "table": [
           {
            "cells": {
             "fill": {
              "color": "rgb(237,237,237)"
             },
             "line": {
              "color": "white"
             }
            },
            "header": {
             "fill": {
              "color": "rgb(217,217,217)"
             },
             "line": {
              "color": "white"
             }
            },
            "type": "table"
           }
          ]
         },
         "layout": {
          "annotationdefaults": {
           "arrowhead": 0,
           "arrowwidth": 1
          },
          "autotypenumbers": "strict",
          "coloraxis": {
           "colorbar": {
            "outlinewidth": 1,
            "tickcolor": "rgb(36,36,36)",
            "ticks": "outside"
           }
          },
          "colorscale": {
           "diverging": [
            [
             0,
             "rgb(103,0,31)"
            ],
            [
             0.1,
             "rgb(178,24,43)"
            ],
            [
             0.2,
             "rgb(214,96,77)"
            ],
            [
             0.3,
             "rgb(244,165,130)"
            ],
            [
             0.4,
             "rgb(253,219,199)"
            ],
            [
             0.5,
             "rgb(247,247,247)"
            ],
            [
             0.6,
             "rgb(209,229,240)"
            ],
            [
             0.7,
             "rgb(146,197,222)"
            ],
            [
             0.8,
             "rgb(67,147,195)"
            ],
            [
             0.9,
             "rgb(33,102,172)"
            ],
            [
             1,
             "rgb(5,48,97)"
            ]
           ],
           "sequential": [
            [
             0,
             "#440154"
            ],
            [
             0.1111111111111111,
             "#482878"
            ],
            [
             0.2222222222222222,
             "#3e4989"
            ],
            [
             0.3333333333333333,
             "#31688e"
            ],
            [
             0.4444444444444444,
             "#26828e"
            ],
            [
             0.5555555555555556,
             "#1f9e89"
            ],
            [
             0.6666666666666666,
             "#35b779"
            ],
            [
             0.7777777777777778,
             "#6ece58"
            ],
            [
             0.8888888888888888,
             "#b5de2b"
            ],
            [
             1,
             "#fde725"
            ]
           ],
           "sequentialminus": [
            [
             0,
             "#440154"
            ],
            [
             0.1111111111111111,
             "#482878"
            ],
            [
             0.2222222222222222,
             "#3e4989"
            ],
            [
             0.3333333333333333,
             "#31688e"
            ],
            [
             0.4444444444444444,
             "#26828e"
            ],
            [
             0.5555555555555556,
             "#1f9e89"
            ],
            [
             0.6666666666666666,
             "#35b779"
            ],
            [
             0.7777777777777778,
             "#6ece58"
            ],
            [
             0.8888888888888888,
             "#b5de2b"
            ],
            [
             1,
             "#fde725"
            ]
           ]
          },
          "colorway": [
           "#1F77B4",
           "#FF7F0E",
           "#2CA02C",
           "#D62728",
           "#9467BD",
           "#8C564B",
           "#E377C2",
           "#7F7F7F",
           "#BCBD22",
           "#17BECF"
          ],
          "font": {
           "color": "rgb(36,36,36)"
          },
          "geo": {
           "bgcolor": "white",
           "lakecolor": "white",
           "landcolor": "white",
           "showlakes": true,
           "showland": true,
           "subunitcolor": "white"
          },
          "hoverlabel": {
           "align": "left"
          },
          "hovermode": "closest",
          "mapbox": {
           "style": "light"
          },
          "paper_bgcolor": "white",
          "plot_bgcolor": "white",
          "polar": {
           "angularaxis": {
            "gridcolor": "rgb(232,232,232)",
            "linecolor": "rgb(36,36,36)",
            "showgrid": false,
            "showline": true,
            "ticks": "outside"
           },
           "bgcolor": "white",
           "radialaxis": {
            "gridcolor": "rgb(232,232,232)",
            "linecolor": "rgb(36,36,36)",
            "showgrid": false,
            "showline": true,
            "ticks": "outside"
           }
          },
          "scene": {
           "xaxis": {
            "backgroundcolor": "white",
            "gridcolor": "rgb(232,232,232)",
            "gridwidth": 2,
            "linecolor": "rgb(36,36,36)",
            "showbackground": true,
            "showgrid": false,
            "showline": true,
            "ticks": "outside",
            "zeroline": false,
            "zerolinecolor": "rgb(36,36,36)"
           },
           "yaxis": {
            "backgroundcolor": "white",
            "gridcolor": "rgb(232,232,232)",
            "gridwidth": 2,
            "linecolor": "rgb(36,36,36)",
            "showbackground": true,
            "showgrid": false,
            "showline": true,
            "ticks": "outside",
            "zeroline": false,
            "zerolinecolor": "rgb(36,36,36)"
           },
           "zaxis": {
            "backgroundcolor": "white",
            "gridcolor": "rgb(232,232,232)",
            "gridwidth": 2,
            "linecolor": "rgb(36,36,36)",
            "showbackground": true,
            "showgrid": false,
            "showline": true,
            "ticks": "outside",
            "zeroline": false,
            "zerolinecolor": "rgb(36,36,36)"
           }
          },
          "shapedefaults": {
           "fillcolor": "black",
           "line": {
            "width": 0
           },
           "opacity": 0.3
          },
          "ternary": {
           "aaxis": {
            "gridcolor": "rgb(232,232,232)",
            "linecolor": "rgb(36,36,36)",
            "showgrid": false,
            "showline": true,
            "ticks": "outside"
           },
           "baxis": {
            "gridcolor": "rgb(232,232,232)",
            "linecolor": "rgb(36,36,36)",
            "showgrid": false,
            "showline": true,
            "ticks": "outside"
           },
           "bgcolor": "white",
           "caxis": {
            "gridcolor": "rgb(232,232,232)",
            "linecolor": "rgb(36,36,36)",
            "showgrid": false,
            "showline": true,
            "ticks": "outside"
           }
          },
          "title": {
           "x": 0.05
          },
          "xaxis": {
           "automargin": true,
           "gridcolor": "rgb(232,232,232)",
           "linecolor": "rgb(36,36,36)",
           "showgrid": false,
           "showline": true,
           "ticks": "outside",
           "title": {
            "standoff": 15
           },
           "zeroline": false,
           "zerolinecolor": "rgb(36,36,36)"
          },
          "yaxis": {
           "automargin": true,
           "gridcolor": "rgb(232,232,232)",
           "linecolor": "rgb(36,36,36)",
           "showgrid": false,
           "showline": true,
           "ticks": "outside",
           "title": {
            "standoff": 15
           },
           "zeroline": false,
           "zerolinecolor": "rgb(36,36,36)"
          }
         }
        },
        "title": {
         "text": "Airline Passengers",
         "x": 0.5
        },
        "width": 650,
        "xaxis": {
         "anchor": "y",
         "domain": [
          0,
          1
         ],
         "title": {
          "text": "Date"
         }
        },
        "yaxis": {
         "anchor": "x",
         "domain": [
          0,
          1
         ],
         "title": {
          "text": "Passengers_Boxcox"
         }
        }
       }
      },
      "image/png": "[encoded data removed]"
     },
     "metadata": {},
     "output_type": "display_data"
    }
   ],
   "source": [
    "# Import packages \n",
    "from scipy.stats import boxcox\n",
    "\n",
    "# Make the target variance stationary\n",
    "data['Passengers_Boxcox'], lam = boxcox(data['#Passengers'])\n",
    "\n",
    "# Plot the box-cox passenger data\n",
    "plot_passenger_volumes(df=data, y='Passengers_Boxcox')"
   ]
  },
  {
   "cell_type": "markdown",
   "id": "3c67c5da-ef01-4add-a636-38a911c2fa1c",
   "metadata": {},
   "source": [
    "The data now appears to be stationary. We could have made it further stationary by carrying out second order differencing or seasonal differencing, however I think it is satisfactory here."
   ]
  },
  {
   "cell_type": "markdown",
   "id": "e36e9d81-cedd-4a86-acc2-faf882ce9f11",
   "metadata": {},
   "source": [
    "### Modelling"
   ]
  },
  {
   "cell_type": "markdown",
   "id": "83575ac3-95e5-4366-aea6-5725e39fdd5f",
   "metadata": {},
   "source": [
    "Now let's find the autoregressive and moving-average orders by plotting the autocorrelation and partial autocorrelation functions."
   ]
  },
  {
   "cell_type": "code",
   "execution_count": 3,
   "id": "6694ae6d-66b9-4c2e-b114-e13145267019",
   "metadata": {},
   "outputs": [
    {
     "data": {
      "image/png": "[encoded data removed]",
      "text/plain": [
       "<Figure size 1280x400 with 2 Axes>"
      ]
     },
     "metadata": {},
     "output_type": "display_data"
    }
   ],
   "source": [
    "# Import packages\n",
    "import matplotlib.pyplot as plt\n",
    "from statsmodels.graphics.tsaplots import plot_pacf, plot_acf\n",
    "\n",
    "# Difference the data\n",
    "data[\"Passenger_diff\"] = data[\"Passengers_Boxcox\"].diff()\n",
    "data.dropna(inplace=True)\n",
    "\n",
    "# Plot acf and pacf\n",
    "fig, (ax1, ax2) = plt.subplots(1, 2, figsize=(16,5), dpi=80)\n",
    "plot_acf(data['Passenger_diff'], ax=ax1)\n",
    "plot_pacf(data['Passenger_diff'], ax=ax2, method='ywm')\n",
    "ax1.tick_params(axis='both', labelsize=12)\n",
    "ax2.tick_params(axis='both', labelsize=12)\n",
    "plt.show()"
   ]
  },
  {
   "cell_type": "markdown",
   "id": "c79713be-459a-4d62-b1be-d60519b15fc2",
   "metadata": {},
   "source": [
    "The blue region signifies where the points are no longer statistically significant and from the plot we see the last lag that is statistically significant for both plot is ~12th. Therefore, we would take the order of p and q to be 12.\\\n",
    "\\\n",
    "Now, let’s fit the model using the ARIMA function and generate the forecasts:"
   ]
  },
  {
   "cell_type": "code",
   "execution_count": 4,
   "id": "aa5c120c-ef5c-4dcf-af0d-17422545ac41",
   "metadata": {},
   "outputs": [
    {
     "data": {
      "image/png": "[encoded data removed]",
      "text/plain": [
       "<Figure size 1200x600 with 1 Axes>"
      ]
     },
     "metadata": {},
     "output_type": "display_data"
    }
   ],
   "source": [
    "import pandas as pd\n",
    "from statsmodels.tsa.arima.model import ARIMA\n",
    "from scipy.stats import boxcox\n",
    "from scipy.special import inv_boxcox\n",
    "import warnings\n",
    "warnings.filterwarnings(\"ignore\")  # Temporarily suppress warnings\n",
    "\n",
    "# Load and prepare data\n",
    "data = pd.read_csv('AirPassengers.csv', parse_dates=['Month'], index_col='Month')\n",
    "\n",
    "# Apply Box-Cox transformation\n",
    "data['Passengers_Boxcox'], lam = boxcox(data['#Passengers'])\n",
    "\n",
    "# Split train and test\n",
    "train_size = int(len(data) * 0.8)\n",
    "train, test = data.iloc[:train_size], data.iloc[train_size:]\n",
    "\n",
    "# Build simple ARIMA model\n",
    "model = ARIMA(train['Passengers_Boxcox'], \n",
    "              order=(12, 1, 12),).fit()\n",
    "\n",
    "# Generate forecasts\n",
    "boxcox_forecasts = model.forecast(steps=len(test))\n",
    "forecasts = inv_boxcox(boxcox_forecasts, lam)\n",
    "\n",
    "# Create results DataFrame\n",
    "results = pd.DataFrame({\n",
    "    'Actual': test['#Passengers'],\n",
    "    'Forecast': forecasts\n",
    "}, index=test.index)\n",
    "\n",
    "import matplotlib.pyplot as plt\n",
    "results.plot(figsize=(12,6))\n",
    "plt.title('ARIMA Forecast vs Actuals')\n",
    "plt.show()"
   ]
  },
  {
   "cell_type": "markdown",
   "id": "2e80fbec-f409-448e-a4e0-3bb38f8d3d6b",
   "metadata": {},
   "source": [
    "### Results"
   ]
  },
  {
   "cell_type": "markdown",
   "id": "b80c9a75-9e0e-434c-9821-0d2c2290bf90",
   "metadata": {},
   "source": [
    "The forecasts produced from this fitted model is for the differenced and Box-Cox transformed time series that we produced earlier. Therefore, we have to un-difference and apply the inverse Box-Cox transform to the predictions to acquire the actual airline passenger forecasted volumes:"
   ]
  },
  {
   "cell_type": "code",
   "execution_count": 5,
   "id": "0c3a25d4-6e9f-4851-a7b9-6e8a776db236",
   "metadata": {},
   "outputs": [
    {
     "data": {
      "application/vnd.plotly.v1+json": {
       "config": {
        "plotlyServerURL": "https://plot.ly"
       },
       "data": [
        {
         "name": "Train",
         "type": "scatter",
         "x": [
          "1949-01-01T00:00:00.000000000",
          "1949-02-01T00:00:00.000000000",
          "1949-03-01T00:00:00.000000000",
          "1949-04-01T00:00:00.000000000",
          "1949-05-01T00:00:00.000000000",
          "1949-06-01T00:00:00.000000000",
          "1949-07-01T00:00:00.000000000",
          "1949-08-01T00:00:00.000000000",
          "1949-09-01T00:00:00.000000000",
          "1949-10-01T00:00:00.000000000",
          "1949-11-01T00:00:00.000000000",
          "1949-12-01T00:00:00.000000000",
          "1950-01-01T00:00:00.000000000",
          "1950-02-01T00:00:00.000000000",
          "1950-03-01T00:00:00.000000000",
          "1950-04-01T00:00:00.000000000",
          "1950-05-01T00:00:00.000000000",
          "1950-06-01T00:00:00.000000000",
          "1950-07-01T00:00:00.000000000",
          "1950-08-01T00:00:00.000000000",
          "1950-09-01T00:00:00.000000000",
          "1950-10-01T00:00:00.000000000",
          "1950-11-01T00:00:00.000000000",
          "1950-12-01T00:00:00.000000000",
          "1951-01-01T00:00:00.000000000",
          "1951-02-01T00:00:00.000000000",
          "1951-03-01T00:00:00.000000000",
          "1951-04-01T00:00:00.000000000",
          "1951-05-01T00:00:00.000000000",
          "1951-06-01T00:00:00.000000000",
          "1951-07-01T00:00:00.000000000",
          "1951-08-01T00:00:00.000000000",
          "1951-09-01T00:00:00.000000000",
          "1951-10-01T00:00:00.000000000",
          "1951-11-01T00:00:00.000000000",
          "1951-12-01T00:00:00.000000000",
          "1952-01-01T00:00:00.000000000",
          "1952-02-01T00:00:00.000000000",
          "1952-03-01T00:00:00.000000000",
          "1952-04-01T00:00:00.000000000",
          "1952-05-01T00:00:00.000000000",
          "1952-06-01T00:00:00.000000000",
          "1952-07-01T00:00:00.000000000",
          "1952-08-01T00:00:00.000000000",
          "1952-09-01T00:00:00.000000000",
          "1952-10-01T00:00:00.000000000",
          "1952-11-01T00:00:00.000000000",
          "1952-12-01T00:00:00.000000000",
          "1953-01-01T00:00:00.000000000",
          "1953-02-01T00:00:00.000000000",
          "1953-03-01T00:00:00.000000000",
          "1953-04-01T00:00:00.000000000",
          "1953-05-01T00:00:00.000000000",
          "1953-06-01T00:00:00.000000000",
          "1953-07-01T00:00:00.000000000",
          "1953-08-01T00:00:00.000000000",
          "1953-09-01T00:00:00.000000000",
          "1953-10-01T00:00:00.000000000",
          "1953-11-01T00:00:00.000000000",
          "1953-12-01T00:00:00.000000000",
          "1954-01-01T00:00:00.000000000",
          "1954-02-01T00:00:00.000000000",
          "1954-03-01T00:00:00.000000000",
          "1954-04-01T00:00:00.000000000",
          "1954-05-01T00:00:00.000000000",
          "1954-06-01T00:00:00.000000000",
          "1954-07-01T00:00:00.000000000",
          "1954-08-01T00:00:00.000000000",
          "1954-09-01T00:00:00.000000000",
          "1954-10-01T00:00:00.000000000",
          "1954-11-01T00:00:00.000000000",
          "1954-12-01T00:00:00.000000000",
          "1955-01-01T00:00:00.000000000",
          "1955-02-01T00:00:00.000000000",
          "1955-03-01T00:00:00.000000000",
          "1955-04-01T00:00:00.000000000",
          "1955-05-01T00:00:00.000000000",
          "1955-06-01T00:00:00.000000000",
          "1955-07-01T00:00:00.000000000",
          "1955-08-01T00:00:00.000000000",
          "1955-09-01T00:00:00.000000000",
          "1955-10-01T00:00:00.000000000",
          "1955-11-01T00:00:00.000000000",
          "1955-12-01T00:00:00.000000000",
          "1956-01-01T00:00:00.000000000",
          "1956-02-01T00:00:00.000000000",
          "1956-03-01T00:00:00.000000000",
          "1956-04-01T00:00:00.000000000",
          "1956-05-01T00:00:00.000000000",
          "1956-06-01T00:00:00.000000000",
          "1956-07-01T00:00:00.000000000",
          "1956-08-01T00:00:00.000000000",
          "1956-09-01T00:00:00.000000000",
          "1956-10-01T00:00:00.000000000",
          "1956-11-01T00:00:00.000000000",
          "1956-12-01T00:00:00.000000000",
          "1957-01-01T00:00:00.000000000",
          "1957-02-01T00:00:00.000000000",
          "1957-03-01T00:00:00.000000000",
          "1957-04-01T00:00:00.000000000",
          "1957-05-01T00:00:00.000000000",
          "1957-06-01T00:00:00.000000000",
          "1957-07-01T00:00:00.000000000",
          "1957-08-01T00:00:00.000000000",
          "1957-09-01T00:00:00.000000000",
          "1957-10-01T00:00:00.000000000",
          "1957-11-01T00:00:00.000000000",
          "1957-12-01T00:00:00.000000000",
          "1958-01-01T00:00:00.000000000",
          "1958-02-01T00:00:00.000000000",
          "1958-03-01T00:00:00.000000000",
          "1958-04-01T00:00:00.000000000",
          "1958-05-01T00:00:00.000000000",
          "1958-06-01T00:00:00.000000000",
          "1958-07-01T00:00:00.000000000"
         ],
         "y": {
          "bdata": "cAB2AIQAgQB5AIcAlACUAIgAdwBoAHYAcwB+AI0AhwB9AJUAqgCqAJ4AhQByAIwAkQCWALIAowCsALIAxwDHALgAogCSAKYAqwC0AMEAtQC3ANoA5gDyANEAvwCsAMIAxADEAOwA6wDlAPMACAEQAe0A0wC0AMkAzAC8AOsA4wDqAAgBLgElAQMB5QDLAOUA8gDpAAsBDQEOATsBbAFbATgBEgHtABYBHAEVAT0BOQE+AXYBnQGVAWMBMgEPATIBOwEtAWQBXAFjAaYB0QHTAZQBWwExAVABVAE+AWoBXAFrAbMB6wE=",
          "dtype": "i2"
         }
        },
        {
         "name": "Test",
         "type": "scatter",
         "x": [
          "1958-08-01T00:00:00.000000000",
          "1958-09-01T00:00:00.000000000",
          "1958-10-01T00:00:00.000000000",
          "1958-11-01T00:00:00.000000000",
          "1958-12-01T00:00:00.000000000",
          "1959-01-01T00:00:00.000000000",
          "1959-02-01T00:00:00.000000000",
          "1959-03-01T00:00:00.000000000",
          "1959-04-01T00:00:00.000000000",
          "1959-05-01T00:00:00.000000000",
          "1959-06-01T00:00:00.000000000",
          "1959-07-01T00:00:00.000000000",
          "1959-08-01T00:00:00.000000000",
          "1959-09-01T00:00:00.000000000",
          "1959-10-01T00:00:00.000000000",
          "1959-11-01T00:00:00.000000000",
          "1959-12-01T00:00:00.000000000",
          "1960-01-01T00:00:00.000000000",
          "1960-02-01T00:00:00.000000000",
          "1960-03-01T00:00:00.000000000",
          "1960-04-01T00:00:00.000000000",
          "1960-05-01T00:00:00.000000000",
          "1960-06-01T00:00:00.000000000",
          "1960-07-01T00:00:00.000000000",
          "1960-08-01T00:00:00.000000000",
          "1960-09-01T00:00:00.000000000",
          "1960-10-01T00:00:00.000000000",
          "1960-11-01T00:00:00.000000000",
          "1960-12-01T00:00:00.000000000"
         ],
         "y": {
          "bdata": "+QGUAWcBNgFRAWgBVgGWAYwBpAHYASQCLwLPAZcBagGVAaEBhwGjAc0B2AEXAm4CXgL8Ac0BhgGwAQ==",
          "dtype": "i2"
         }
        },
        {
         "name": "Forecast",
         "type": "scatter",
         "x": [
          "1958-08-01T00:00:00.000000000",
          "1958-09-01T00:00:00.000000000",
          "1958-10-01T00:00:00.000000000",
          "1958-11-01T00:00:00.000000000",
          "1958-12-01T00:00:00.000000000",
          "1959-01-01T00:00:00.000000000",
          "1959-02-01T00:00:00.000000000",
          "1959-03-01T00:00:00.000000000",
          "1959-04-01T00:00:00.000000000",
          "1959-05-01T00:00:00.000000000",
          "1959-06-01T00:00:00.000000000",
          "1959-07-01T00:00:00.000000000",
          "1959-08-01T00:00:00.000000000",
          "1959-09-01T00:00:00.000000000",
          "1959-10-01T00:00:00.000000000",
          "1959-11-01T00:00:00.000000000",
          "1959-12-01T00:00:00.000000000",
          "1960-01-01T00:00:00.000000000",
          "1960-02-01T00:00:00.000000000",
          "1960-03-01T00:00:00.000000000",
          "1960-04-01T00:00:00.000000000",
          "1960-05-01T00:00:00.000000000",
          "1960-06-01T00:00:00.000000000",
          "1960-07-01T00:00:00.000000000",
          "1960-08-01T00:00:00.000000000",
          "1960-09-01T00:00:00.000000000",
          "1960-10-01T00:00:00.000000000",
          "1960-11-01T00:00:00.000000000",
          "1960-12-01T00:00:00.000000000"
         ],
         "y": {
          "bdata": "2kWejCnEfUBbamACUsZ5QAYQ2IX2LnZAZONB01HFc0BAPDxtQq91QKJGXvwhFnZAckKGwFuidEC2wq0UkWJ3QA8Daea7U3dAhKeNWYtUeECsqIIIXVF9QIHj956IMYBALRaROHFqf0DEEiC/pFR7QLck3Lu1nndANPhV+EA8dUDH/3rN4gx3QO3CkU0DZ3dA/BXiee6cdUBz9JkG8y94QJNyFNa7UHhA5aSgSCNheUCAGq0/SNJ+QEzgY74694BA03Eb8G1xgEDp0NbuQ8d8QCTa1TI0+XhAnZxQULyldkB/5G/CX1l4QA==",
          "dtype": "f8"
         }
        }
       ],
       "layout": {
        "font": {
         "size": 18
        },
        "height": 400,
        "template": {
         "data": {
          "bar": [
           {
            "error_x": {
             "color": "rgb(36,36,36)"
            },
            "error_y": {
             "color": "rgb(36,36,36)"
            },
            "marker": {
             "line": {
              "color": "white",
              "width": 0.5
             },
             "pattern": {
              "fillmode": "overlay",
              "size": 10,
              "solidity": 0.2
             }
            },
            "type": "bar"
           }
          ],
          "barpolar": [
           {
            "marker": {
             "line": {
              "color": "white",
              "width": 0.5
             },
             "pattern": {
              "fillmode": "overlay",
              "size": 10,
              "solidity": 0.2
             }
            },
            "type": "barpolar"
           }
          ],
          "carpet": [
           {
            "aaxis": {
             "endlinecolor": "rgb(36,36,36)",
             "gridcolor": "white",
             "linecolor": "white",
             "minorgridcolor": "white",
             "startlinecolor": "rgb(36,36,36)"
            },
            "baxis": {
             "endlinecolor": "rgb(36,36,36)",
             "gridcolor": "white",
             "linecolor": "white",
             "minorgridcolor": "white",
             "startlinecolor": "rgb(36,36,36)"
            },
            "type": "carpet"
           }
          ],
          "choropleth": [
           {
            "colorbar": {
             "outlinewidth": 1,
             "tickcolor": "rgb(36,36,36)",
             "ticks": "outside"
            },
            "type": "choropleth"
           }
          ],
          "contour": [
           {
            "colorbar": {
             "outlinewidth": 1,
             "tickcolor": "rgb(36,36,36)",
             "ticks": "outside"
            },
            "colorscale": [
             [
              0,
              "#440154"
             ],
             [
              0.1111111111111111,
              "#482878"
             ],
             [
              0.2222222222222222,
              "#3e4989"
             ],
             [
              0.3333333333333333,
              "#31688e"
             ],
             [
              0.4444444444444444,
              "#26828e"
             ],
             [
              0.5555555555555556,
              "#1f9e89"
             ],
             [
              0.6666666666666666,
              "#35b779"
             ],
             [
              0.7777777777777778,
              "#6ece58"
             ],
             [
              0.8888888888888888,
              "#b5de2b"
             ],
             [
              1,
              "#fde725"
             ]
            ],
            "type": "contour"
           }
          ],
          "contourcarpet": [
           {
            "colorbar": {
             "outlinewidth": 1,
             "tickcolor": "rgb(36,36,36)",
             "ticks": "outside"
            },
            "type": "contourcarpet"
           }
          ],
          "heatmap": [
           {
            "colorbar": {
             "outlinewidth": 1,
             "tickcolor": "rgb(36,36,36)",
             "ticks": "outside"
            },
            "colorscale": [
             [
              0,
              "#440154"
             ],
             [
              0.1111111111111111,
              "#482878"
             ],
             [
              0.2222222222222222,
              "#3e4989"
             ],
             [
              0.3333333333333333,
              "#31688e"
             ],
             [
              0.4444444444444444,
              "#26828e"
             ],
             [
              0.5555555555555556,
              "#1f9e89"
             ],
             [
              0.6666666666666666,
              "#35b779"
             ],
             [
              0.7777777777777778,
              "#6ece58"
             ],
             [
              0.8888888888888888,
              "#b5de2b"
             ],
             [
              1,
              "#fde725"
             ]
            ],
            "type": "heatmap"
           }
          ],
          "histogram": [
           {
            "marker": {
             "line": {
              "color": "white",
              "width": 0.6
             }
            },
            "type": "histogram"
           }
          ],
          "histogram2d": [
           {
            "colorbar": {
             "outlinewidth": 1,
             "tickcolor": "rgb(36,36,36)",
             "ticks": "outside"
            },
            "colorscale": [
             [
              0,
              "#440154"
             ],
             [
              0.1111111111111111,
              "#482878"
             ],
             [
              0.2222222222222222,
              "#3e4989"
             ],
             [
              0.3333333333333333,
              "#31688e"
             ],
             [
              0.4444444444444444,
              "#26828e"
             ],
             [
              0.5555555555555556,
              "#1f9e89"
             ],
             [
              0.6666666666666666,
              "#35b779"
             ],
             [
              0.7777777777777778,
              "#6ece58"
             ],
             [
              0.8888888888888888,
              "#b5de2b"
             ],
             [
              1,
              "#fde725"
             ]
            ],
            "type": "histogram2d"
           }
          ],
          "histogram2dcontour": [
           {
            "colorbar": {
             "outlinewidth": 1,
             "tickcolor": "rgb(36,36,36)",
             "ticks": "outside"
            },
            "colorscale": [
             [
              0,
              "#440154"
             ],
             [
              0.1111111111111111,
              "#482878"
             ],
             [
              0.2222222222222222,
              "#3e4989"
             ],
             [
              0.3333333333333333,
              "#31688e"
             ],
             [
              0.4444444444444444,
              "#26828e"
             ],
             [
              0.5555555555555556,
              "#1f9e89"
             ],
             [
              0.6666666666666666,
              "#35b779"
             ],
             [
              0.7777777777777778,
              "#6ece58"
             ],
             [
              0.8888888888888888,
              "#b5de2b"
             ],
             [
              1,
              "#fde725"
             ]
            ],
            "type": "histogram2dcontour"
           }
          ],
          "mesh3d": [
           {
            "colorbar": {
             "outlinewidth": 1,
             "tickcolor": "rgb(36,36,36)",
             "ticks": "outside"
            },
            "type": "mesh3d"
           }
          ],
          "parcoords": [
           {
            "line": {
             "colorbar": {
              "outlinewidth": 1,
              "tickcolor": "rgb(36,36,36)",
              "ticks": "outside"
             }
            },
            "type": "parcoords"
           }
          ],
          "pie": [
           {
            "automargin": true,
            "type": "pie"
           }
          ],
          "scatter": [
           {
            "fillpattern": {
             "fillmode": "overlay",
             "size": 10,
             "solidity": 0.2
            },
            "type": "scatter"
           }
          ],
          "scatter3d": [
           {
            "line": {
             "colorbar": {
              "outlinewidth": 1,
              "tickcolor": "rgb(36,36,36)",
              "ticks": "outside"
             }
            },
            "marker": {
             "colorbar": {
              "outlinewidth": 1,
              "tickcolor": "rgb(36,36,36)",
              "ticks": "outside"
             }
            },
            "type": "scatter3d"
           }
          ],
          "scattercarpet": [
           {
            "marker": {
             "colorbar": {
              "outlinewidth": 1,
              "tickcolor": "rgb(36,36,36)",
              "ticks": "outside"
             }
            },
            "type": "scattercarpet"
           }
          ],
          "scattergeo": [
           {
            "marker": {
             "colorbar": {
              "outlinewidth": 1,
              "tickcolor": "rgb(36,36,36)",
              "ticks": "outside"
             }
            },
            "type": "scattergeo"
           }
          ],
          "scattergl": [
           {
            "marker": {
             "colorbar": {
              "outlinewidth": 1,
              "tickcolor": "rgb(36,36,36)",
              "ticks": "outside"
             }
            },
            "type": "scattergl"
           }
          ],
          "scattermap": [
           {
            "marker": {
             "colorbar": {
              "outlinewidth": 1,
              "tickcolor": "rgb(36,36,36)",
              "ticks": "outside"
             }
            },
            "type": "scattermap"
           }
          ],
          "scattermapbox": [
           {
            "marker": {
             "colorbar": {
              "outlinewidth": 1,
              "tickcolor": "rgb(36,36,36)",
              "ticks": "outside"
             }
            },
            "type": "scattermapbox"
           }
          ],
          "scatterpolar": [
           {
            "marker": {
             "colorbar": {
              "outlinewidth": 1,
              "tickcolor": "rgb(36,36,36)",
              "ticks": "outside"
             }
            },
            "type": "scatterpolar"
           }
          ],
          "scatterpolargl": [
           {
            "marker": {
             "colorbar": {
              "outlinewidth": 1,
              "tickcolor": "rgb(36,36,36)",
              "ticks": "outside"
             }
            },
            "type": "scatterpolargl"
           }
          ],
          "scatterternary": [
           {
            "marker": {
             "colorbar": {
              "outlinewidth": 1,
              "tickcolor": "rgb(36,36,36)",
              "ticks": "outside"
             }
            },
            "type": "scatterternary"
           }
          ],
          "surface": [
           {
            "colorbar": {
             "outlinewidth": 1,
             "tickcolor": "rgb(36,36,36)",
             "ticks": "outside"
            },
            "colorscale": [
             [
              0,
              "#440154"
             ],
             [
              0.1111111111111111,
              "#482878"
             ],
             [
              0.2222222222222222,
              "#3e4989"
             ],
             [
              0.3333333333333333,
              "#31688e"
             ],
             [
              0.4444444444444444,
              "#26828e"
             ],
             [
              0.5555555555555556,
              "#1f9e89"
             ],
             [
              0.6666666666666666,
              "#35b779"
             ],
             [
              0.7777777777777778,
              "#6ece58"
             ],
             [
              0.8888888888888888,
              "#b5de2b"
             ],
             [
              1,
              "#fde725"
             ]
            ],
            "type": "surface"
           }
          ],
          "table": [
           {
            "cells": {
             "fill": {
              "color": "rgb(237,237,237)"
             },
             "line": {
              "color": "white"
             }
            },
            "header": {
             "fill": {
              "color": "rgb(217,217,217)"
             },
             "line": {
              "color": "white"
             }
            },
            "type": "table"
           }
          ]
         },
         "layout": {
          "annotationdefaults": {
           "arrowhead": 0,
           "arrowwidth": 1
          },
          "autotypenumbers": "strict",
          "coloraxis": {
           "colorbar": {
            "outlinewidth": 1,
            "tickcolor": "rgb(36,36,36)",
            "ticks": "outside"
           }
          },
          "colorscale": {
           "diverging": [
            [
             0,
             "rgb(103,0,31)"
            ],
            [
             0.1,
             "rgb(178,24,43)"
            ],
            [
             0.2,
             "rgb(214,96,77)"
            ],
            [
             0.3,
             "rgb(244,165,130)"
            ],
            [
             0.4,
             "rgb(253,219,199)"
            ],
            [
             0.5,
             "rgb(247,247,247)"
            ],
            [
             0.6,
             "rgb(209,229,240)"
            ],
            [
             0.7,
             "rgb(146,197,222)"
            ],
            [
             0.8,
             "rgb(67,147,195)"
            ],
            [
             0.9,
             "rgb(33,102,172)"
            ],
            [
             1,
             "rgb(5,48,97)"
            ]
           ],
           "sequential": [
            [
             0,
             "#440154"
            ],
            [
             0.1111111111111111,
             "#482878"
            ],
            [
             0.2222222222222222,
             "#3e4989"
            ],
            [
             0.3333333333333333,
             "#31688e"
            ],
            [
             0.4444444444444444,
             "#26828e"
            ],
            [
             0.5555555555555556,
             "#1f9e89"
            ],
            [
             0.6666666666666666,
             "#35b779"
            ],
            [
             0.7777777777777778,
             "#6ece58"
            ],
            [
             0.8888888888888888,
             "#b5de2b"
            ],
            [
             1,
             "#fde725"
            ]
           ],
           "sequentialminus": [
            [
             0,
             "#440154"
            ],
            [
             0.1111111111111111,
             "#482878"
            ],
            [
             0.2222222222222222,
             "#3e4989"
            ],
            [
             0.3333333333333333,
             "#31688e"
            ],
            [
             0.4444444444444444,
             "#26828e"
            ],
            [
             0.5555555555555556,
             "#1f9e89"
            ],
            [
             0.6666666666666666,
             "#35b779"
            ],
            [
             0.7777777777777778,
             "#6ece58"
            ],
            [
             0.8888888888888888,
             "#b5de2b"
            ],
            [
             1,
             "#fde725"
            ]
           ]
          },
          "colorway": [
           "#1F77B4",
           "#FF7F0E",
           "#2CA02C",
           "#D62728",
           "#9467BD",
           "#8C564B",
           "#E377C2",
           "#7F7F7F",
           "#BCBD22",
           "#17BECF"
          ],
          "font": {
           "color": "rgb(36,36,36)"
          },
          "geo": {
           "bgcolor": "white",
           "lakecolor": "white",
           "landcolor": "white",
           "showlakes": true,
           "showland": true,
           "subunitcolor": "white"
          },
          "hoverlabel": {
           "align": "left"
          },
          "hovermode": "closest",
          "mapbox": {
           "style": "light"
          },
          "paper_bgcolor": "white",
          "plot_bgcolor": "white",
          "polar": {
           "angularaxis": {
            "gridcolor": "rgb(232,232,232)",
            "linecolor": "rgb(36,36,36)",
            "showgrid": false,
            "showline": true,
            "ticks": "outside"
           },
           "bgcolor": "white",
           "radialaxis": {
            "gridcolor": "rgb(232,232,232)",
            "linecolor": "rgb(36,36,36)",
            "showgrid": false,
            "showline": true,
            "ticks": "outside"
           }
          },
          "scene": {
           "xaxis": {
            "backgroundcolor": "white",
            "gridcolor": "rgb(232,232,232)",
            "gridwidth": 2,
            "linecolor": "rgb(36,36,36)",
            "showbackground": true,
            "showgrid": false,
            "showline": true,
            "ticks": "outside",
            "zeroline": false,
            "zerolinecolor": "rgb(36,36,36)"
           },
           "yaxis": {
            "backgroundcolor": "white",
            "gridcolor": "rgb(232,232,232)",
            "gridwidth": 2,
            "linecolor": "rgb(36,36,36)",
            "showbackground": true,
            "showgrid": false,
            "showline": true,
            "ticks": "outside",
            "zeroline": false,
            "zerolinecolor": "rgb(36,36,36)"
           },
           "zaxis": {
            "backgroundcolor": "white",
            "gridcolor": "rgb(232,232,232)",
            "gridwidth": 2,
            "linecolor": "rgb(36,36,36)",
            "showbackground": true,
            "showgrid": false,
            "showline": true,
            "ticks": "outside",
            "zeroline": false,
            "zerolinecolor": "rgb(36,36,36)"
           }
          },
          "shapedefaults": {
           "fillcolor": "black",
           "line": {
            "width": 0
           },
           "opacity": 0.3
          },
          "ternary": {
           "aaxis": {
            "gridcolor": "rgb(232,232,232)",
            "linecolor": "rgb(36,36,36)",
            "showgrid": false,
            "showline": true,
            "ticks": "outside"
           },
           "baxis": {
            "gridcolor": "rgb(232,232,232)",
            "linecolor": "rgb(36,36,36)",
            "showgrid": false,
            "showline": true,
            "ticks": "outside"
           },
           "bgcolor": "white",
           "caxis": {
            "gridcolor": "rgb(232,232,232)",
            "linecolor": "rgb(36,36,36)",
            "showgrid": false,
            "showline": true,
            "ticks": "outside"
           }
          },
          "title": {
           "x": 0.05
          },
          "xaxis": {
           "automargin": true,
           "gridcolor": "rgb(232,232,232)",
           "linecolor": "rgb(36,36,36)",
           "showgrid": false,
           "showline": true,
           "ticks": "outside",
           "title": {
            "standoff": 15
           },
           "zeroline": false,
           "zerolinecolor": "rgb(36,36,36)"
          },
          "yaxis": {
           "automargin": true,
           "gridcolor": "rgb(232,232,232)",
           "linecolor": "rgb(36,36,36)",
           "showgrid": false,
           "showline": true,
           "ticks": "outside",
           "title": {
            "standoff": 15
           },
           "zeroline": false,
           "zerolinecolor": "rgb(36,36,36)"
          }
         }
        },
        "title": {
         "text": "ARIMA",
         "x": 0.5
        },
        "width": 650,
        "xaxis": {
         "title": {
          "text": "Date"
         }
        },
        "yaxis": {
         "title": {
          "text": "Passenger Volume"
         }
        }
       }
      },
      "image/png": "[encoded data removed]"
     },
     "metadata": {},
     "output_type": "display_data"
    }
   ],
   "source": [
    "# Import packages\n",
    "import plotly.graph_objects as go\n",
    "\n",
    "def plot_forecasts(forecasts: list[float], title: str) -> None:\n",
    "    \"\"\"Function to plot the forecasts.\"\"\"\n",
    "    fig = go.Figure()\n",
    "    fig.add_trace(go.Scatter(x=train.index, y=train['#Passengers'], name='Train'))\n",
    "    fig.add_trace(go.Scatter(x=test.index, y=test['#Passengers'], name='Test'))\n",
    "    fig.add_trace(go.Scatter(x=test.index, y=forecasts, name='Forecast'))\n",
    "    fig.update_layout(template=\"simple_white\", font=dict(size=18), title_text=title,\n",
    "                      width=650, title_x=0.5, height=400, xaxis_title='Date',\n",
    "                      yaxis_title='Passenger Volume')\n",
    "\n",
    "    return fig.show()\n",
    "\n",
    "# Plot the forecasts\n",
    "plot_forecasts(forecasts, 'ARIMA')"
   ]
  },
  {
   "cell_type": "markdown",
   "id": "60d66680-c6d5-4c6d-ab95-84d9647156a5",
   "metadata": {},
   "source": [
    "### Comparison"
   ]
  },
  {
   "cell_type": "markdown",
   "id": "be5d215a-f804-40bb-a8f8-793cfb8489d3",
   "metadata": {},
   "source": [
    "Now let's compare the ARIMA model we built to with ARIMA models with other parameters using AIC(Akaike information criterion) and BIC(Bayesian information criterion)"
   ]
  },
  {
   "cell_type": "code",
   "execution_count": 6,
   "id": "5dabdac5-ec5d-4eef-a275-0571cf15f35e",
   "metadata": {},
   "outputs": [
    {
     "name": "stdout",
     "output_type": "stream",
     "text": [
      "AIC: -181.43180547531\n",
      "BIC: -113.02684426544761\n",
      "AIC (manual): -181.43180547531\n",
      "BIC (manual): -112.80850226622874\n",
      "\n",
      "Simple ARIMA(1,1,1)\n",
      "AIC: -15.1459670252577\n",
      "BIC: -6.9373716800742145\n",
      "\n",
      "Alternative Seasonal ARIMA(1,1,1)(0,1,1,12)\n",
      "AIC: -207.75467897284997\n",
      "BIC: -197.25478771971288\n"
     ]
    }
   ],
   "source": [
    "import numpy as np\n",
    "\n",
    "# Built in calculation\n",
    "print(\"AIC:\", model.aic)\n",
    "print(\"BIC:\", model.bic)\n",
    "\n",
    "# Manual Calculation\n",
    "log_likelihood = model.llf  # Log-likelihood of the model\n",
    "n = len(train)              # Number of observations used in fitting\n",
    "k = model.df_model          # Number of estimated parameters\n",
    "\n",
    "AIC = 2 * k - 2 * log_likelihood\n",
    "BIC = np.log(n) * k - 2 * log_likelihood\n",
    "\n",
    "print(\"AIC (manual):\", AIC)\n",
    "print(\"BIC (manual):\", BIC)\n",
    "\n",
    "# Fit a simpler ARIMA model\n",
    "simple_model = ARIMA(train['Passengers_Boxcox'], order=(1, 1, 1)).fit()\n",
    "print()\n",
    "print(\"Simple ARIMA(1,1,1)\")\n",
    "print(\"AIC:\", simple_model.aic)\n",
    "print(\"BIC:\", simple_model.bic)\n",
    "\n",
    "# Fit a better SARIMA model (seasonal ARIMA that considers both short term trend and seasonal effects)\n",
    "alt_model = ARIMA(train['Passengers_Boxcox'], order=(1,1,1), seasonal_order=(0,1,1,12)).fit()\n",
    "print()\n",
    "print(\"Alternative Seasonal ARIMA(1,1,1)(0,1,1,12)\")\n",
    "print(\"AIC:\", alt_model.aic)\n",
    "print(\"BIC:\", alt_model.bic)"
   ]
  },
  {
   "cell_type": "code",
   "execution_count": null,
   "id": "786d74fc-8116-43c8-ae33-b426bcc285fd",
   "metadata": {},
   "outputs": [],
   "source": []
  }
 ],
 "metadata": {
  "kernelspec": {
   "display_name": "Python 3 (ipykernel)",
   "language": "python",
   "name": "python3"
  },
  "language_info": {
   "codemirror_mode": {
    "name": "ipython",
    "version": 3
   },
   "file_extension": ".py",
   "mimetype": "text/x-python",
   "name": "python",
   "nbconvert_exporter": "python",
   "pygments_lexer": "ipython3",
   "version": "3.11.9"
  }
 },
 "nbformat": 4,
 "nbformat_minor": 5
}
